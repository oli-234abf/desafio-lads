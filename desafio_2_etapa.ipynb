{
 "cells": [
  {
   "cell_type": "markdown",
   "id": "2ba219a2-5490-4fdc-82b3-2fe53bec55af",
   "metadata": {},
   "source": [
    "# Introdução à Análise de Dados com Pandas\n",
    "## Processo Seletivo LADS - Etapa 2\n",
    "\n",
    "### Instruções:\n",
    "- Este notebook é um guia introdutório à análise de dados com Pandas\n",
    "- Cada seção contém exemplos explicativos e exercícios práticos\n",
    "- Complete todos os exercícios nas células marcadas com \"SEU CÓDIGO AQUI\"\n",
    "\n",
    "### O que será avaliado:\n",
    "- Compreensão dos conceitos apresentados\n",
    "- Capacidade de aplicar os conceitos em problemas práticos\n",
    "- Organização e clareza do código\n",
    "- Análise e interpretação dos resultados\n",
    "\n",
    "### Instruções importantes antes de começar:\n",
    "\n",
    "- **Execute todas as células de código em ordem sequencial** (de cima para baixo)\n",
    "- Não pule células de código, mesmo que pareçam não ter outputs visíveis\n",
    "- Isso garantirá que todas as variáveis necessárias estejam carregadas para os exercícios\n",
    "- Se encontrar erros do tipo \"variável não definida\", volte e verifique se todas as células anteriores foram executadas\n",
    "\n",
    "- Para executar uma célula de código, você pode:\n",
    "  - Pressionar **Ctrl + Enter** enquanto estiver na célula\n",
    "  - Ou clicar no botão ▶️ (play) na barra de ferramentas do seu editor de código\n",
    "\n",
    "---"
   ]
  },
  {
   "cell_type": "markdown",
   "id": "bea911ef",
   "metadata": {},
   "source": [
    "### Antes de começar, execute a célula abaixo e digite seu nome completo:"
   ]
  },
  {
   "cell_type": "code",
   "execution_count": null,
   "id": "c2b400c4",
   "metadata": {},
   "outputs": [],
   "source": [
    "nome = input('Seu nome: ')\n",
    "print(f\"Olá, {nome.title()}! Estamos animados para iniciar essa jornada de análise de dados com você!\")"
   ]
  },
  {
   "cell_type": "markdown",
   "id": "42e9d289",
   "metadata": {},
   "source": [
    "---"
   ]
  },
  {
   "cell_type": "markdown",
   "id": "41f192ff",
   "metadata": {},
   "source": [
    "## 1. Primeiros Passos com Pandas\n",
    "\n",
    "### 1.1 O que é o Pandas?\n",
    "\n",
    "Pandas é uma biblioteca Python para análise e manipulação de dados. Ele oferece estruturas de dados flexíveis e ferramentas para trabalhar com dados estruturados de forma eficiente.\n",
    "\n",
    "As duas principais estruturas de dados do Pandas são:\n",
    "- **Series**: Array unidimensional rotulado\n",
    "- **DataFrame**: Estrutura bidimensional tabular com colunas rotuladas\n",
    "\n",
    "Vamos começar importando as bibliotecas necessárias:"
   ]
  },
  {
   "cell_type": "code",
   "execution_count": null,
   "id": "eaeb79ee-ed63-4678-bedb-7ad7df36aabb",
   "metadata": {},
   "outputs": [],
   "source": [
    "# Importando as bibliotecas\n",
    "import pandas as pd\n",
    "import numpy as np\n",
    "import matplotlib.pyplot as plt\n",
    "\n",
    "# Configurando o matplotlib para mostrar gráficos no notebook\n",
    "%matplotlib inline\n",
    "\n",
    "# Para ignorar os avisos desnecessários\n",
    "import warnings\n",
    "warnings.filterwarnings('ignore')"
   ]
  },
  {
   "cell_type": "markdown",
   "id": "fd12538f-d0ac-4b37-83bf-7f436523c042",
   "metadata": {},
   "source": [
    "### 1.2 Criando um DataFrame\n",
    "\n",
    "Vamos criar um conjunto de dados de exemplo sobre vendas de uma loja virtual:"
   ]
  },
  {
   "cell_type": "code",
   "execution_count": null,
   "id": "e76d0099-4d73-4d25-8923-3c0f3ab73bae",
   "metadata": {},
   "outputs": [],
   "source": [
    "# Criando um dataset de exemplo\n",
    "np.random.seed(42)  # Para garantir reprodutibilidade\n",
    "\n",
    "# Criando dados de exemplo\n",
    "datas = pd.date_range(start='2023-01-01', end='2023-12-31', freq='D')\n",
    "categorias = ['Eletrônicos', 'Roupas', 'Alimentos', 'Casa', 'Beleza']\n",
    "produtos = {\n",
    "    'Eletrônicos': ['Smartphone', 'Laptop', 'Tablet', 'Fones de ouvido', 'Smart TV'],\n",
    "    'Roupas': ['Camiseta', 'Calça', 'Vestido', 'Sapato', 'Jaqueta'],\n",
    "    'Alimentos': ['Arroz', 'Feijão', 'Óleo', 'Açúcar', 'Café'],\n",
    "    'Casa': ['Sofá', 'Mesa', 'Cadeira', 'Cama', 'Armário'],\n",
    "    'Beleza': ['Shampoo', 'Condicionador', 'Sabonete', 'Perfume', 'Hidratante']\n",
    "}\n",
    "regioes = ['Norte', 'Nordeste', 'Centro-Oeste', 'Sudeste', 'Sul']\n",
    "estados = {\n",
    "    'Norte': ['AM', 'PA', 'RO', 'RR', 'AC'],\n",
    "    'Nordeste': ['BA', 'PE', 'CE', 'MA', 'PB'],\n",
    "    'Centro-Oeste': ['DF', 'GO', 'MT', 'MS'],\n",
    "    'Sudeste': ['SP', 'RJ', 'MG', 'ES'],\n",
    "    'Sul': ['PR', 'SC', 'RS']\n",
    "}\n",
    "canais = ['Online', 'Loja Física', 'Aplicativo', 'Telefone']\n",
    "\n",
    "# Gerando 1000 registros aleatórios\n",
    "n_registros = 1000\n",
    "data_vendas = []\n",
    "\n",
    "for _ in range(n_registros):\n",
    "    data = np.random.choice(datas)\n",
    "    categoria = np.random.choice(categorias)\n",
    "    produto = np.random.choice(produtos[categoria])\n",
    "    regiao = np.random.choice(regioes)\n",
    "    estado = np.random.choice(estados[regiao])\n",
    "    canal = np.random.choice(canais)\n",
    "    valor = round(np.random.uniform(10, 5000), 2)  # Valor entre R$10 e R$5000\n",
    "    quantidade = np.random.randint(1, 10)  # Entre 1 e 9 itens\n",
    "    avaliacao = np.random.randint(1, 6)  # Avaliação de 1 a 5 estrelas\n",
    "    \n",
    "    data_vendas.append({\n",
    "        'data': data,\n",
    "        'categoria': categoria,\n",
    "        'produto': produto,\n",
    "        'regiao': regiao,\n",
    "        'estado': estado,\n",
    "        'canal_venda': canal,\n",
    "        'valor_venda': valor,\n",
    "        'quantidade': quantidade,\n",
    "        'avaliacao': avaliacao\n",
    "    })\n",
    "\n",
    "# Criando o DataFrame\n",
    "df_vendas = pd.DataFrame(data_vendas)\n",
    "df_vendas['data'] = df_vendas['data'].astype('object')\n",
    "\n",
    "# Salvando como CSV para uso futuro\n",
    "df_vendas.to_csv('dados_vendas.csv', index=False)\n",
    "\n",
    "# Visualizando as primeiras linhas\n",
    "df_vendas.head()"
   ]
  },
  {
   "cell_type": "markdown",
   "id": "7c960ac0-7af4-4fe3-84dc-871c77fbb3e8",
   "metadata": {},
   "source": [
    "### 1.3 Explorando os Dados Básicos\n",
    "\n",
    "No Pandas, existem vários métodos para explorar e entender os dados:"
   ]
  },
  {
   "cell_type": "code",
   "execution_count": null,
   "id": "740b23bd-74da-4a15-89f7-37957d4b4bcf",
   "metadata": {},
   "outputs": [],
   "source": [
    "# Visualizando as primeiras linhas com head()\n",
    "print(\"Primeiras 5 linhas do DataFrame:\")\n",
    "df_vendas.head()"
   ]
  },
  {
   "cell_type": "code",
   "execution_count": null,
   "id": "15da4a91-b9fa-4251-ba6a-78eac4b38854",
   "metadata": {},
   "outputs": [],
   "source": [
    "# Visualizando as últimas linhas com tail()\n",
    "print(\"Últimas 5 linhas do DataFrame:\")\n",
    "df_vendas.tail()"
   ]
  },
  {
   "cell_type": "code",
   "execution_count": null,
   "id": "75a1d4ad-31c3-4b1f-8cef-bc98045cce50",
   "metadata": {},
   "outputs": [],
   "source": [
    "# Verificando o formato do DataFrame (linhas, colunas) com shape\n",
    "print(f\"Formato do DataFrame: {df_vendas.shape}\")\n",
    "print(f\"Número de linhas: {df_vendas.shape[0]}\")\n",
    "print(f\"Número de colunas: {df_vendas.shape[1]}\")"
   ]
  },
  {
   "cell_type": "code",
   "execution_count": null,
   "id": "9aa6b1fe-bb56-41b8-8956-42603d818966",
   "metadata": {},
   "outputs": [],
   "source": [
    "print(\"Nomes das colunas:\")\n",
    "print(df_vendas.columns.tolist())"
   ]
  },
  {
   "cell_type": "markdown",
   "id": "65ffe237-0163-4e30-b25e-6db54a151bf4",
   "metadata": {},
   "source": [
    "### 1.4 Informações e Estatísticas do DataFrame\n",
    "\n",
    "Pandas oferece métodos para obter informações detalhadas e estatísticas do DataFrame:"
   ]
  },
  {
   "cell_type": "code",
   "execution_count": null,
   "id": "401922e3-8c23-4cfa-a9fa-b03eeb0f02d7",
   "metadata": {},
   "outputs": [],
   "source": [
    "# Verificando informações sobre o DataFrame com info()\n",
    "print(\"Informações do DataFrame:\")\n",
    "df_vendas.info()"
   ]
  },
  {
   "cell_type": "code",
   "execution_count": null,
   "id": "bff05bb9-6648-40ca-a23a-f5cd14337042",
   "metadata": {},
   "outputs": [],
   "source": [
    "# Estatísticas descritivas com describe()\n",
    "print(\"Estatísticas descritivas:\")\n",
    "df_vendas.describe()"
   ]
  },
  {
   "cell_type": "code",
   "execution_count": null,
   "id": "1672db09-c440-4619-9982-ba2adce64355",
   "metadata": {},
   "outputs": [],
   "source": [
    "# Contagem de valores únicos com nunique()\n",
    "print(\"Número de valores únicos em cada coluna:\")\n",
    "df_vendas.nunique()"
   ]
  },
  {
   "cell_type": "markdown",
   "id": "078e72c1-61d3-4abe-b70c-768f7a02f405",
   "metadata": {},
   "source": [
    "### 1.5 Verificando Valores Únicos e Nulos"
   ]
  },
  {
   "cell_type": "code",
   "execution_count": null,
   "id": "9121fa51-6b20-42f0-9b8b-93b2471bd048",
   "metadata": {},
   "outputs": [],
   "source": [
    "# Verificando valores únicos em uma coluna categórica\n",
    "print(\"Categorias únicas:\")\n",
    "df_vendas['categoria'].unique()"
   ]
  },
  {
   "cell_type": "code",
   "execution_count": null,
   "id": "0612d4ac-f5fc-4321-a7fa-b79091f1ae8b",
   "metadata": {},
   "outputs": [],
   "source": [
    "# Contando ocorrências de cada valor\n",
    "print(\"Contagem de cada categoria:\")\n",
    "df_vendas['categoria'].value_counts()"
   ]
  },
  {
   "cell_type": "code",
   "execution_count": null,
   "id": "36929d88-7a67-480a-afab-206ae6f7695d",
   "metadata": {},
   "outputs": [],
   "source": [
    "print(\"Valores nulos em cada coluna:\")\n",
    "df_vendas.isnull().sum()"
   ]
  },
  {
   "cell_type": "markdown",
   "id": "9285b71b-fc90-4f53-a6ab-e902ebffd607",
   "metadata": {},
   "source": [
    "#### Exercício 1: Exploração Básica de Dados\n",
    "Agora é sua vez de aplicar o que aprendeu para explorar o DataFrame:"
   ]
  },
  {
   "cell_type": "markdown",
   "id": "bd96e512-c2ea-4be0-ac2d-f4f87cf1e722",
   "metadata": {},
   "source": [
    "##### 1.1 Use o método head() para mostrar as 10 primeiras linhas do DataFrame"
   ]
  },
  {
   "cell_type": "code",
   "execution_count": null,
   "id": "7eb94998-51f3-46c0-8cab-58ffac14be2a",
   "metadata": {},
   "outputs": [],
   "source": [
    "# SEU CÓDIGO AQUI"
   ]
  },
  {
   "cell_type": "markdown",
   "id": "7de1e69a-6782-4c0b-93af-f1b1a13ade76",
   "metadata": {},
   "source": [
    "##### 1.2 Use shape para verificar quantas linhas e colunas tem o DataFrame"
   ]
  },
  {
   "cell_type": "code",
   "execution_count": null,
   "id": "c55f285e-d241-4cd8-8bb4-3ac3b8b61f8d",
   "metadata": {},
   "outputs": [],
   "source": [
    "# SEU CÓDIGO AQUI"
   ]
  },
  {
   "cell_type": "markdown",
   "id": "1754157e-abee-4ee2-b1c6-407eb209bc92",
   "metadata": {},
   "source": [
    "##### 1.3 Use o método unique() para listar todas as regiões no DataFrame"
   ]
  },
  {
   "cell_type": "code",
   "execution_count": null,
   "id": "1cd1bc77-75a1-4b01-94b4-08c6ce4753fb",
   "metadata": {},
   "outputs": [],
   "source": [
    "# SEU CÓDIGO AQUI"
   ]
  },
  {
   "cell_type": "markdown",
   "id": "5ee1f697-0a93-426b-a64d-68f0c9624ce2",
   "metadata": {},
   "source": [
    "##### 1.4 Use o método value_counts() para contar quantas vendas existem por canal_venda"
   ]
  },
  {
   "cell_type": "code",
   "execution_count": null,
   "id": "ddf6f0b6-5dc3-488b-a60c-2ae55e9e705c",
   "metadata": {},
   "outputs": [],
   "source": [
    "# SEU CÓDIGO AQUI"
   ]
  },
  {
   "attachments": {},
   "cell_type": "markdown",
   "id": "e9c7a025-eb5c-4b13-9ede-499bed43630e",
   "metadata": {},
   "source": [
    "##### 1.5 Use o método describe() para obter estatísticas da coluna 'valor_venda'"
   ]
  },
  {
   "cell_type": "code",
   "execution_count": null,
   "id": "de1e0c33-8499-40e8-946e-3209c3251513",
   "metadata": {},
   "outputs": [],
   "source": [
    "# SEU CÓDIGO AQUI"
   ]
  },
  {
   "cell_type": "markdown",
   "id": "d596b6aa-a19d-4f64-ace2-b93464a40c25",
   "metadata": {},
   "source": [
    "---"
   ]
  },
  {
   "cell_type": "markdown",
   "id": "494ec1e1-f350-405e-9f10-c0192f560746",
   "metadata": {},
   "source": [
    "## 2. Seleção e Filtragem de Dados\n",
    "\n",
    "### 2.1 Selecionando Colunas\n",
    "\n",
    "O Pandas oferece várias maneiras de selecionar colunas em um DataFrame:"
   ]
  },
  {
   "cell_type": "code",
   "execution_count": null,
   "id": "dead5a75-1d6f-48d4-9400-e3e6ca374216",
   "metadata": {},
   "outputs": [],
   "source": [
    "# Selecionando uma única coluna (retorna uma Series)\n",
    "valores_venda = df_vendas['valor_venda']\n",
    "print(\"Primeiros 5 valores da coluna 'valor_venda':\")\n",
    "valores_venda.head()"
   ]
  },
  {
   "cell_type": "code",
   "execution_count": null,
   "id": "be226245-60ec-4547-8fc6-fe0e81228903",
   "metadata": {},
   "outputs": [],
   "source": [
    "print(f\"Tipo de dados: {type(valores_venda)}\")"
   ]
  },
  {
   "cell_type": "code",
   "execution_count": null,
   "id": "c6dd0bde-dc15-458f-8c5c-fc8af20b8755",
   "metadata": {},
   "outputs": [],
   "source": [
    "# Selecionando múltiplas colunas (retorna um DataFrame)\n",
    "selecao = df_vendas[['produto', 'valor_venda', 'quantidade']]\n",
    "\n",
    "print(\"Primeiras 5 linhas das colunas selecionadas:\")\n",
    "selecao.head()"
   ]
  },
  {
   "cell_type": "code",
   "execution_count": null,
   "id": "7b8473b8-bda5-42c1-b0b7-1eac4653d9e0",
   "metadata": {},
   "outputs": [],
   "source": [
    "print(f\"Tipo de dados: {type(selecao)}\")"
   ]
  },
  {
   "cell_type": "markdown",
   "id": "311d65ad-411c-4bf8-b4dd-7fb882d09728",
   "metadata": {},
   "source": [
    "### 2.2 Filtrando Linhas com Condições\n",
    "\n",
    "Podemos filtrar linhas do DataFrame usando condições lógicas:"
   ]
  },
  {
   "cell_type": "code",
   "execution_count": null,
   "id": "cce589f6-c3c8-49b8-be6e-31d962d74b6a",
   "metadata": {},
   "outputs": [],
   "source": [
    "# Filtragem básica: vendas com valor acima de 1000\n",
    "vendas_altas = df_vendas[df_vendas['valor_venda'] > 1000]\n",
    "print(f\"Número de vendas com valor acima de R$1000: {len(vendas_altas)}\")\n",
    "\n",
    "print(\"Primeiras 5 vendas com valor acima de R$1000:\")\n",
    "vendas_altas.head()"
   ]
  },
  {
   "cell_type": "code",
   "execution_count": null,
   "id": "8ddbe0fb-4378-44c3-a3f5-fa8daea2f0c1",
   "metadata": {},
   "outputs": [],
   "source": [
    "# Filtrando com múltiplas condições usando operadores lógicos & (AND) e | (OR)\n",
    "\n",
    "# Vendas de Eletrônicos na região Sul\n",
    "vendas_eletronicos_sul = df_vendas[(df_vendas['categoria'] == 'Eletrônicos') & \n",
    "                                   (df_vendas['regiao'] == 'Sul')]\n",
    "print(f\"Número de vendas de Eletrônicos na região Sul: {len(vendas_eletronicos_sul)}\")\n",
    "\n",
    "print(\"Primeiras 5 vendas de Eletrônicos na região Sul:\")\n",
    "vendas_eletronicos_sul.head()"
   ]
  },
  {
   "cell_type": "code",
   "execution_count": null,
   "id": "d641c266-be6c-4fed-9afd-0ac5b22407a4",
   "metadata": {},
   "outputs": [],
   "source": [
    "# Filtrando com OR lógico\n",
    "\n",
    "# Vendas muito altas (>3000) ou com avaliação máxima (5)\n",
    "vendas_premium = df_vendas[(df_vendas['valor_venda'] > 3000) | \n",
    "                          (df_vendas['avaliacao'] == 5)]\n",
    "\n",
    "print(f\"Número de vendas premium: {len(vendas_premium)}\")\n",
    "\n",
    "print(\"Primeiras 5 vendas premium:\")\n",
    "vendas_premium.head()"
   ]
  },
  {
   "cell_type": "markdown",
   "id": "b8f13735-38d4-4c73-8232-de0d542c3235",
   "metadata": {},
   "source": [
    "### 2.3 Filtragem com isin() e between()\n",
    "\n",
    "Pandas oferece métodos especiais para filtragens mais específicas:"
   ]
  },
  {
   "cell_type": "code",
   "execution_count": null,
   "id": "93865da9-3c70-4cfb-8a5b-2ccb9db742db",
   "metadata": {},
   "outputs": [],
   "source": [
    "# Usando isin() para filtrar com uma lista de valores\n",
    "\n",
    "# Vendas nas regiões Sul e Sudeste\n",
    "regioes_sul_sudeste = ['Sul', 'Sudeste']\n",
    "vendas_sul_sudeste = df_vendas[df_vendas['regiao'].isin(regioes_sul_sudeste)]\n",
    "\n",
    "print(f\"Número de vendas nas regiões Sul e Sudeste: {len(vendas_sul_sudeste)}\")\n",
    "\n",
    "print(\"Primeiras 5 vendas nas regiões Sul e Sudeste:\")\n",
    "vendas_sul_sudeste.head()"
   ]
  },
  {
   "cell_type": "code",
   "execution_count": null,
   "id": "77fe577e-0a3d-4c05-bc7c-23652452a24a",
   "metadata": {},
   "outputs": [],
   "source": [
    "# Usando between() para filtrar valores em um intervalo\n",
    "\n",
    "# Vendas com valor entre 1000 e 2000\n",
    "vendas_1000_2000 = df_vendas[df_vendas['valor_venda'].between(1000, 2000)]\n",
    "\n",
    "print(f\"Número de vendas entre R$1000 e R$2000: {len(vendas_1000_2000)}\")\n",
    "\n",
    "print(\"Primeiras 5 vendas entre R$1000 e R$2000:\")\n",
    "vendas_1000_2000.head()"
   ]
  },
  {
   "cell_type": "markdown",
   "id": "892239e3-ce34-454c-b883-9b9de92430eb",
   "metadata": {},
   "source": [
    "#### Exercício 2: Seleção e Filtragem de Dados\n",
    "Agora, pratique a seleção e filtragem de dados com os seguintes exercícios:"
   ]
  },
  {
   "cell_type": "markdown",
   "id": "e3188264-cfdd-44f7-8d68-47c1a4e45026",
   "metadata": {},
   "source": [
    "##### 2.1 Selecione apenas as colunas 'data', 'produto' e 'valor_venda' do DataFrame"
   ]
  },
  {
   "cell_type": "code",
   "execution_count": null,
   "id": "b1b8911b-11fc-441c-9ca4-992e3544652c",
   "metadata": {},
   "outputs": [],
   "source": [
    "# SEU CÓDIGO AQUI"
   ]
  },
  {
   "cell_type": "markdown",
   "id": "5143f5af-6f5d-44cf-8582-99e31e75620f",
   "metadata": {},
   "source": [
    "##### 2.2 Filtre o DataFrame para mostrar apenas as vendas do canal 'Online'"
   ]
  },
  {
   "cell_type": "code",
   "execution_count": null,
   "id": "adcc0cfe-8adf-4001-a520-c89e93f999fe",
   "metadata": {},
   "outputs": [],
   "source": [
    "# SEU CÓDIGO AQUI"
   ]
  },
  {
   "cell_type": "markdown",
   "id": "fc7bbc2e-55af-470b-a827-ab3630807818",
   "metadata": {},
   "source": [
    "##### 2.3 Filtre o DataFrame para mostrar vendas de 'Roupas' com valor acima de 500"
   ]
  },
  {
   "cell_type": "code",
   "execution_count": null,
   "id": "9136f68a-0b68-4c25-9359-26504fc3ee3d",
   "metadata": {},
   "outputs": [],
   "source": [
    "# SEU CÓDIGO AQUI"
   ]
  },
  {
   "cell_type": "markdown",
   "id": "103a25ca-19ae-4bb7-831c-19984c3eb6f0",
   "metadata": {},
   "source": [
    "##### 2.4 Use o método isin() para filtrar vendas dos produtos 'Smartphone' e 'Laptop'"
   ]
  },
  {
   "cell_type": "code",
   "execution_count": null,
   "id": "7d01e9b9-ae9a-4907-9c3f-f42b49d97a33",
   "metadata": {},
   "outputs": [],
   "source": [
    "# SEU CÓDIGO AQUI"
   ]
  },
  {
   "cell_type": "markdown",
   "id": "7a7eddde-e487-44ef-b471-d0e2b17e963b",
   "metadata": {},
   "source": [
    "##### 2.5 Use o método between() para encontrar vendas com quantidades entre 3 e 5 unidades"
   ]
  },
  {
   "cell_type": "code",
   "execution_count": null,
   "id": "d9f9a6c5-1b42-45c0-82f2-490814e18a7f",
   "metadata": {},
   "outputs": [],
   "source": [
    "# SEU CÓDIGO AQUI"
   ]
  },
  {
   "cell_type": "markdown",
   "id": "899dfc6e-13e1-4c66-9d74-e60096f3a1bb",
   "metadata": {},
   "source": [
    "## 3. Ordenação e Indexação\n",
    "\n",
    "### 3.1 Ordenando Dados\n",
    "\n",
    "O método `sort_values()` permite ordenar o DataFrame por uma ou mais colunas:"
   ]
  },
  {
   "cell_type": "code",
   "execution_count": null,
   "id": "9eb379ce-5e2e-4c83-9c82-dbbeac637f12",
   "metadata": {},
   "outputs": [],
   "source": [
    "# Ordenando por uma coluna em ordem crescente (padrão)\n",
    "df_ordenado_crescente = df_vendas.sort_values('valor_venda')\n",
    "\n",
    "print(\"5 vendas com os menores valores:\")\n",
    "df_ordenado_crescente.head()"
   ]
  },
  {
   "cell_type": "code",
   "execution_count": null,
   "id": "209ce2a6-49f1-4483-bfea-27a180f6e066",
   "metadata": {},
   "outputs": [],
   "source": [
    "# Ordenando por uma coluna em ordem decrescente\n",
    "df_ordenado_decrescente = df_vendas.sort_values('valor_venda', ascending=False)\n",
    "\n",
    "print(\"5 vendas com os maiores valores:\")\n",
    "df_ordenado_decrescente.head()"
   ]
  },
  {
   "cell_type": "code",
   "execution_count": null,
   "id": "745f707f-a548-428d-9c74-35c2b92e1d8e",
   "metadata": {},
   "outputs": [],
   "source": [
    "# Ordenando por múltiplas colunas\n",
    "\n",
    "# Primeiro por categoria (A-Z) e depois por valor_venda (maior para menor)\n",
    "df_ordenado_multi = df_vendas.sort_values(['categoria', 'valor_venda'], \n",
    "                                         ascending=[True, False])\n",
    "\n",
    "print(\"Ordenação por categoria e depois por valor (decrescente):\")\n",
    "df_ordenado_multi.head(10)"
   ]
  },
  {
   "cell_type": "markdown",
   "id": "29a83671-6ceb-4ec0-8779-ebbc21a0be35",
   "metadata": {},
   "source": [
    "### 3.2 Redefinindo e Usando Índices"
   ]
  },
  {
   "cell_type": "code",
   "execution_count": null,
   "id": "2a05e6c3-648f-480e-b95b-93f1e452e576",
   "metadata": {},
   "outputs": [],
   "source": [
    "# Definindo uma coluna como índice\n",
    "df_indexado = df_vendas.set_index('data')\n",
    "\n",
    "print(\"DataFrame com 'data' como índice:\")\n",
    "df_indexado.head()"
   ]
  },
  {
   "cell_type": "code",
   "execution_count": null,
   "id": "f6f34ddc-46d7-48fd-abb8-c7ba4b747b82",
   "metadata": {},
   "outputs": [],
   "source": [
    "# Resetando o índice para voltar ao formato original\n",
    "df_reset = df_indexado.reset_index()\n",
    "\n",
    "print(\"DataFrame após reset do índice:\")\n",
    "df_reset.head()"
   ]
  },
  {
   "cell_type": "code",
   "execution_count": null,
   "id": "1f7ab412-30d4-4584-8dec-f9ad1850ab93",
   "metadata": {},
   "outputs": [],
   "source": [
    "# Acessando dados através do índice\n",
    "# (Importante: assumindo que 'data' ainda é o índice)\n",
    "print(\"Vendas em uma data específica:\")\n",
    "try:\n",
    "    data_exemplo = df_indexado.index[0]  # Pegando a primeira data como exemplo\n",
    "    print(f\"Vendas em {data_exemplo}:\")\n",
    "    display(df_indexado.loc[data_exemplo])\n",
    "except:\n",
    "    print(\"Certifique-se de que o DataFrame está indexado por 'data'\")"
   ]
  },
  {
   "cell_type": "markdown",
   "id": "71b8b374-0892-4972-becf-d8a590cbe720",
   "metadata": {},
   "source": [
    "#### Exercício 3: Ordenação e Indexação\n",
    "Agora, pratique a ordenação e indexação com os seguintes exercícios:"
   ]
  },
  {
   "cell_type": "markdown",
   "id": "d028c95f-3d26-4faa-a662-41bbf060688c",
   "metadata": {},
   "source": [
    "##### 3.1 Ordene o DataFrame por 'avaliacao' em ordem decrescente e mostre as 10 primeiras linhas"
   ]
  },
  {
   "cell_type": "code",
   "execution_count": null,
   "id": "bc6f6d0e-f8ec-4534-88a9-c655c8b1d970",
   "metadata": {},
   "outputs": [],
   "source": [
    "# SEU CÓDIGO AQUI"
   ]
  },
  {
   "cell_type": "markdown",
   "id": "589ebe89-c22b-4960-8653-d756740a01a9",
   "metadata": {},
   "source": [
    "##### 3.2 Ordene o DataFrame primeiro por 'regiao' (A-Z) e depois por 'valor_venda' (maior para menor)"
   ]
  },
  {
   "cell_type": "code",
   "execution_count": null,
   "id": "37ae0b5f-f2d7-4690-bb53-64ffd6171a1a",
   "metadata": {},
   "outputs": [],
   "source": [
    "# SEU CÓDIGO AQUI"
   ]
  },
  {
   "cell_type": "markdown",
   "id": "7ba4a3f8-9eec-41a5-8a90-d492f3e2e9de",
   "metadata": {},
   "source": [
    "##### 3.3 Defina a coluna 'produto' como índice do DataFrame e mostre as 5 primeiras linhas"
   ]
  },
  {
   "cell_type": "code",
   "execution_count": null,
   "id": "b794edaa-1370-46e1-b29e-1527b5181ba4",
   "metadata": {},
   "outputs": [],
   "source": [
    "# SEU CÓDIGO AQUI"
   ]
  },
  {
   "cell_type": "markdown",
   "id": "73b00c56-e6e6-406c-99c3-fabf84f76293",
   "metadata": {},
   "source": [
    "##### 3.4 Com o DataFrame indexado por 'produto' na questão anterior, acesse os dados do produto 'Smartphone' (se existir)\n",
    "\n",
    "Dica: use o .loc"
   ]
  },
  {
   "cell_type": "code",
   "execution_count": null,
   "id": "fcf3a450-c0a5-47ff-80de-08ef526e3ac6",
   "metadata": {},
   "outputs": [],
   "source": [
    "# SEU CÓDIGO AQUI"
   ]
  },
  {
   "cell_type": "markdown",
   "id": "3b0400cb-9a2f-42da-b21c-ad843b4b777a",
   "metadata": {},
   "source": [
    "##### 3.5 Resete o índice para retornar à forma original e mostre as 5 primeiras linhas"
   ]
  },
  {
   "cell_type": "code",
   "execution_count": null,
   "id": "866dc8e7-66d2-4b6c-96e8-bd6b275775a3",
   "metadata": {},
   "outputs": [],
   "source": [
    "# SEU CÓDIGO AQUI"
   ]
  },
  {
   "cell_type": "markdown",
   "id": "f76795bb-f6b2-4134-866d-cac17c32d2ea",
   "metadata": {},
   "source": [
    "---"
   ]
  },
  {
   "cell_type": "markdown",
   "id": "cf4889b0-9196-4622-b85f-c0af473cb83d",
   "metadata": {},
   "source": [
    "## 4. Métodos Estatísticos e Agregações Básicas\n",
    "\n",
    "O Pandas oferece diversos métodos para calcular estatísticas e resumir informações.\n",
    "\n",
    "### 4.1 Estatísticas Básicas"
   ]
  },
  {
   "cell_type": "code",
   "execution_count": null,
   "id": "25d67f15-650d-4d59-b9ad-f3532fd63f1d",
   "metadata": {},
   "outputs": [],
   "source": [
    "# Calculando a média (mean) de uma coluna\n",
    "media_valor = df_vendas['valor_venda'].mean()\n",
    "print(f\"Valor médio de venda: R${media_valor:.2f}\")"
   ]
  },
  {
   "cell_type": "code",
   "execution_count": null,
   "id": "6ac1b8e1-71bb-44d2-bfe3-d94e22503042",
   "metadata": {},
   "outputs": [],
   "source": [
    "# Calculando a soma (sum) de uma coluna\n",
    "total_vendas = df_vendas['valor_venda'].sum()\n",
    "print(f\"Valor total de vendas: R${total_vendas:.2f}\")"
   ]
  },
  {
   "cell_type": "code",
   "execution_count": null,
   "id": "76b0a1db-bd42-4a05-97ff-fa4dca8a1300",
   "metadata": {},
   "outputs": [],
   "source": [
    "# Calculando o mínimo (min) e máximo (max)\n",
    "min_valor = df_vendas['valor_venda'].min()\n",
    "max_valor = df_vendas['valor_venda'].max()\n",
    "\n",
    "print(f\"Menor valor de venda: R${min_valor:.2f}\")\n",
    "print(f\"Maior valor de venda: R${max_valor:.2f}\")"
   ]
  },
  {
   "cell_type": "code",
   "execution_count": null,
   "id": "6954771c-d2f4-4a66-ac9c-5458afb0ef40",
   "metadata": {},
   "outputs": [],
   "source": [
    "# Calculando a mediana (median / 50º percentil)\n",
    "mediana_valor = df_vendas['valor_venda'].median()\n",
    "print(f\"Valor mediano de venda: R${mediana_valor:.2f}\")"
   ]
  },
  {
   "cell_type": "code",
   "execution_count": null,
   "id": "acbbea16-2c60-46ca-8f75-f4c574cdfdb7",
   "metadata": {},
   "outputs": [],
   "source": [
    "# Calculando outros percentis\n",
    "percentil_25 = df_vendas['valor_venda'].quantile(0.25)\n",
    "percentil_75 = df_vendas['valor_venda'].quantile(0.75)\n",
    "\n",
    "print(f\"25º percentil do valor de venda: R${percentil_25:.2f}\")\n",
    "print(f\"75º percentil do valor de venda: R${percentil_75:.2f}\")"
   ]
  },
  {
   "cell_type": "code",
   "execution_count": null,
   "id": "dd1c59ff-75b7-47d0-b556-45cc3f25b676",
   "metadata": {},
   "outputs": [],
   "source": [
    "# Calculando o desvio padrão (std) e variância (var)\n",
    "desvio_padrao = df_vendas['valor_venda'].std()\n",
    "variancia = df_vendas['valor_venda'].var()\n",
    "\n",
    "print(f\"Desvio padrão do valor de venda: R${desvio_padrao:.2f}\")\n",
    "print(f\"Variância do valor de venda: R${variancia:.2f}\")"
   ]
  },
  {
   "cell_type": "markdown",
   "id": "00886d8e-a1c0-4138-b83c-255c421393b4",
   "metadata": {},
   "source": [
    "### 4.2 Agregações por Categoria"
   ]
  },
  {
   "cell_type": "code",
   "execution_count": null,
   "id": "f0e6c6a9-8da0-4094-a2dd-950037962002",
   "metadata": {},
   "outputs": [],
   "source": [
    "# Calculando a média por categoria\n",
    "media_por_categoria = df_vendas.groupby('categoria')['valor_venda'].mean()\n",
    "\n",
    "print(\"Valor médio de venda por categoria:\")\n",
    "media_por_categoria"
   ]
  },
  {
   "cell_type": "code",
   "execution_count": null,
   "id": "ede967c3-e018-4189-9b5c-dd20e0688d9c",
   "metadata": {},
   "outputs": [],
   "source": [
    "# Calculando múltiplas estatísticas por categoria\n",
    "stats_por_categoria = df_vendas.groupby('categoria')['valor_venda'].agg(['count', 'mean', 'min', 'max'])\n",
    "\n",
    "print(\"Estatísticas por categoria:\")\n",
    "stats_por_categoria"
   ]
  },
  {
   "cell_type": "code",
   "execution_count": null,
   "id": "115b1213-1c19-415b-a8e6-26fa695ab470",
   "metadata": {},
   "outputs": [],
   "source": [
    "# Renomeando as colunas para melhor legibilidade\n",
    "stats_por_categoria.columns = ['Contagem', 'Média', 'Mínimo', 'Máximo']\n",
    "\n",
    "print(\"Estatísticas por categoria (colunas renomeadas):\")\n",
    "stats_por_categoria"
   ]
  },
  {
   "cell_type": "markdown",
   "id": "54c0a473-0391-4023-9822-b0e2d625431c",
   "metadata": {},
   "source": [
    "#### Exercício 4: Estatísticas e Agregações\n",
    "Agora, pratique o cálculo de estatísticas com os seguintes exercícios:"
   ]
  },
  {
   "cell_type": "markdown",
   "id": "5078e4fe-f99f-4e06-b656-00f8e5c7124a",
   "metadata": {},
   "source": [
    "##### 4.1 Calcule a média da coluna 'quantidade'"
   ]
  },
  {
   "cell_type": "code",
   "execution_count": null,
   "id": "cc689efd-1698-4c59-9a64-7a5917afaf99",
   "metadata": {},
   "outputs": [],
   "source": [
    "# SEU CÓDIGO AQUI"
   ]
  },
  {
   "cell_type": "markdown",
   "id": "503018ba-7d65-4f09-bba4-41a488d6032c",
   "metadata": {},
   "source": [
    "##### 4.2 Calcule a soma total da coluna 'valor_venda' para ter o faturamento total"
   ]
  },
  {
   "cell_type": "code",
   "execution_count": null,
   "id": "c627160c-65ed-4b00-ae04-475b11599a9e",
   "metadata": {},
   "outputs": [],
   "source": [
    "# SEU CÓDIGO AQUI"
   ]
  },
  {
   "cell_type": "markdown",
   "id": "c2223df7-0194-4b78-9488-e5d5426d6633",
   "metadata": {},
   "source": [
    "##### 4.3 Encontre o valor máximo de 'avaliacao' de cada categoria de produto"
   ]
  },
  {
   "cell_type": "code",
   "execution_count": null,
   "id": "e63c555f-87bd-4dce-adf5-f0f76ffc005d",
   "metadata": {},
   "outputs": [],
   "source": [
    "# SEU CÓDIGO AQUI"
   ]
  },
  {
   "cell_type": "markdown",
   "id": "d11401cb-ec84-46d0-a5d6-e885aca9d614",
   "metadata": {},
   "source": [
    "##### 4.4 Calcule o valor médio de venda por região e ordene do maior para o menor"
   ]
  },
  {
   "cell_type": "code",
   "execution_count": null,
   "id": "6ee127c8-ac52-4fd5-8823-a1c74242fcfc",
   "metadata": {},
   "outputs": [],
   "source": [
    "# SEU CÓDIGO AQUI"
   ]
  },
  {
   "cell_type": "markdown",
   "id": "a0a0b9a1-93ee-47f2-9e07-68c99cbe7c42",
   "metadata": {},
   "source": [
    "##### 4.5 Calcule a contagem, média, mínimo e máximo de 'valor_venda' para cada canal_venda"
   ]
  },
  {
   "cell_type": "code",
   "execution_count": null,
   "id": "f9d9351a-021d-4529-8567-45806ff32355",
   "metadata": {},
   "outputs": [],
   "source": [
    "# SEU CÓDIGO AQUI"
   ]
  },
  {
   "cell_type": "markdown",
   "id": "35cdf4d1-89b8-44c2-9972-764bc5815503",
   "metadata": {},
   "source": [
    "---"
   ]
  },
  {
   "cell_type": "markdown",
   "id": "66c707c9-4747-4faf-af55-bd1190e7a7de",
   "metadata": {},
   "source": [
    "## 5. Agrupamento de Dados (GroupBy)\n",
    "\n",
    "### 5.1 O Conceito de GroupBy\n",
    "\n",
    "O método `groupby()` é uma das ferramentas mais poderosas do Pandas. Ele permite dividir os dados em grupos com base em uma ou mais colunas e aplicar funções para calcular estatísticas para cada grupo.\n",
    "\n",
    "O processo de GroupBy geralmente segue três etapas:\n",
    "1. **Split**: Dividir os dados em grupos\n",
    "2. **Apply**: Aplicar uma função a cada grupo\n",
    "3. **Combine**: Combinar os resultados em uma estrutura de dados"
   ]
  },
  {
   "cell_type": "code",
   "execution_count": null,
   "id": "45d3ffcf-45cb-4a90-ab7d-2d21fd093fb8",
   "metadata": {},
   "outputs": [],
   "source": [
    "# Exemplo básico: agrupando por categoria e calculando a média de valor_venda\n",
    "media_por_categoria = df_vendas.groupby('categoria')['valor_venda'].mean()\n",
    "print(\"Valor médio de venda por categoria:\")\n",
    "media_por_categoria"
   ]
  },
  {
   "cell_type": "code",
   "execution_count": null,
   "id": "4da8fce5-ba88-4acc-819b-777cc78088df",
   "metadata": {},
   "outputs": [],
   "source": [
    "# Visualizando o tipo de dados retornado\n",
    "print(f\"Tipo de dados: {type(media_por_categoria)}\")"
   ]
  },
  {
   "cell_type": "markdown",
   "id": "120b3a7e-23c8-4fcb-9c84-80488d32b4de",
   "metadata": {},
   "source": [
    "### 5.2 Agregações com GroupBy\n",
    "\n",
    "Podemos aplicar diferentes funções de agregação aos grupos:"
   ]
  },
  {
   "cell_type": "code",
   "execution_count": null,
   "id": "8b27a2d1-28ed-4cc1-8e2b-27c73a715446",
   "metadata": {},
   "outputs": [],
   "source": [
    "# Contagem de vendas por região\n",
    "contagem_por_regiao = df_vendas.groupby('regiao')['valor_venda'].count()\n",
    "\n",
    "print(\"Número de vendas por região:\")\n",
    "contagem_por_regiao"
   ]
  },
  {
   "cell_type": "code",
   "execution_count": null,
   "id": "a5dfb104-a543-48b1-9e77-131296d46bbd",
   "metadata": {},
   "outputs": [],
   "source": [
    "# Soma do valor de vendas por região\n",
    "soma_por_regiao = df_vendas.groupby('regiao')['valor_venda'].sum()\n",
    "\n",
    "print(\"Valor total de vendas por região:\")\n",
    "soma_por_regiao"
   ]
  },
  {
   "cell_type": "code",
   "execution_count": null,
   "id": "fe6009c9-d428-416f-bf54-14f82b20023e",
   "metadata": {},
   "outputs": [],
   "source": [
    "# Calculando múltiplas estatísticas simultaneamente\n",
    "stats_por_regiao = df_vendas.groupby('regiao')['valor_venda'].agg(['count', 'sum', 'mean', 'min', 'max'])\n",
    "\n",
    "print(\"Estatísticas completas por região:\")\n",
    "stats_por_regiao"
   ]
  },
  {
   "cell_type": "markdown",
   "id": "65fd6fbd-d67d-4053-a5c6-66bf28d3b027",
   "metadata": {},
   "source": [
    "### 5.3 GroupBy com Múltiplas Colunas\n",
    "\n",
    "Podemos agrupar por mais de uma coluna para análises mais detalhadas:"
   ]
  },
  {
   "cell_type": "code",
   "execution_count": null,
   "id": "98230e1a-1f27-4a58-a304-1fce940011ef",
   "metadata": {},
   "outputs": [],
   "source": [
    "# Agrupando por região e categoria\n",
    "vendas_regiao_categoria = df_vendas.groupby(['regiao', 'categoria'])['valor_venda'].sum()\n",
    "\n",
    "print(\"Total de vendas por região e categoria:\")\n",
    "vendas_regiao_categoria"
   ]
  },
  {
   "cell_type": "code",
   "execution_count": null,
   "id": "cd2c8966-3a53-4cfa-b6cb-1f95b7e938d2",
   "metadata": {},
   "outputs": [],
   "source": [
    "# Convertendo para um formato mais legível (tabela pivô)\n",
    "vendas_pivot = vendas_regiao_categoria.unstack()\n",
    "\n",
    "print(\"Tabela pivô de vendas por região e categoria:\")\n",
    "vendas_pivot"
   ]
  },
  {
   "cell_type": "markdown",
   "id": "a2b64143-a0a6-4124-b67a-2464b82fbc1f",
   "metadata": {},
   "source": [
    "### 5.4 Aplicando Diferentes Agregações a Diferentes Colunas"
   ]
  },
  {
   "cell_type": "code",
   "execution_count": null,
   "id": "d7ae0f32-a403-44db-b43a-031d12884008",
   "metadata": {},
   "outputs": [],
   "source": [
    "# Aplicando diferentes funções a diferentes colunas\n",
    "agg_multiplas_colunas = df_vendas.groupby('categoria').agg({\n",
    "    'valor_venda': ['sum', 'mean'],\n",
    "    'quantidade': ['sum', 'mean'],\n",
    "    'avaliacao': 'mean'\n",
    "})\n",
    "\n",
    "print(\"Agregações múltiplas por categoria:\")\n",
    "agg_multiplas_colunas"
   ]
  },
  {
   "cell_type": "code",
   "execution_count": null,
   "id": "38206f93-22b3-4cd0-bc7f-1404f738cb26",
   "metadata": {},
   "outputs": [],
   "source": [
    "# Achatando os níveis de índice das colunas para facilitar o acesso\n",
    "agg_multiplas_colunas.columns = ['Valor Total', 'Valor Médio', 'Quantidade Total', 'Quantidade Média', 'Avaliação Média']\n",
    "\n",
    "print(\"Com colunas renomeadas:\")\n",
    "agg_multiplas_colunas"
   ]
  },
  {
   "cell_type": "markdown",
   "id": "48b0b134-bea1-4649-9695-e010aee9602a",
   "metadata": {},
   "source": [
    "#### Exercício 5: Agrupamento com GroupBy\n",
    "Agora, pratique o uso do GroupBy com os seguintes exercícios:"
   ]
  },
  {
   "cell_type": "markdown",
   "id": "44ea9f5d-8f8c-440e-a21c-206f0221ca38",
   "metadata": {},
   "source": [
    "##### 5.1 Agrupe os dados por 'canal_venda' e calcule o valor total de vendas para cada canal"
   ]
  },
  {
   "cell_type": "code",
   "execution_count": null,
   "id": "22811861-df15-4982-a502-68908461dd94",
   "metadata": {},
   "outputs": [],
   "source": [
    "# SEU CÓDIGO AQUI"
   ]
  },
  {
   "cell_type": "markdown",
   "id": "177bdfaf-73c9-498a-a6ac-bfaca8e936c2",
   "metadata": {},
   "source": [
    "##### 5.2 Agrupe por 'estado' e calcule a quantidade média de itens vendidos por estado"
   ]
  },
  {
   "cell_type": "code",
   "execution_count": null,
   "id": "831905fa-bb6a-43d8-9196-3644dcf47efd",
   "metadata": {},
   "outputs": [],
   "source": [
    "# SEU CÓDIGO AQUI"
   ]
  },
  {
   "cell_type": "markdown",
   "id": "380e259b-51fc-4f2e-976f-2ca7635bb307",
   "metadata": {},
   "source": [
    "##### 5.3 Agrupe por 'categoria' e calcule a avaliação média para cada categoria de produto"
   ]
  },
  {
   "cell_type": "code",
   "execution_count": null,
   "id": "92360056-7ed3-4bff-8599-b475e214c1d0",
   "metadata": {},
   "outputs": [],
   "source": [
    "# SEU CÓDIGO AQUI"
   ]
  },
  {
   "cell_type": "markdown",
   "id": "8a8e2e63-f732-4588-8b0a-3d3125b5cb00",
   "metadata": {},
   "source": [
    "##### 5.4 Agrupe por 'regiao' e 'canal_venda' e calcule o total de vendas para cada combinação"
   ]
  },
  {
   "cell_type": "code",
   "execution_count": null,
   "id": "b98593a1-1977-43bb-a590-14c5f458b289",
   "metadata": {},
   "outputs": [],
   "source": [
    "# SEU CÓDIGO AQUI"
   ]
  },
  {
   "cell_type": "markdown",
   "id": "97a2b8b2-e26c-4bd5-b7ed-6c23c4951b75",
   "metadata": {},
   "source": [
    "##### 5.5 Aplique múltiplas agregações (count, sum, mean) à coluna 'valor_venda' após agrupar por 'produto'"
   ]
  },
  {
   "cell_type": "code",
   "execution_count": null,
   "id": "62470d4f-752e-47a2-895b-fbf98bf410e0",
   "metadata": {},
   "outputs": [],
   "source": [
    "# SEU CÓDIGO AQUI"
   ]
  },
  {
   "cell_type": "markdown",
   "id": "193c3712-4af0-4d9a-85b9-4ccf210f662e",
   "metadata": {},
   "source": [
    "---"
   ]
  },
  {
   "cell_type": "markdown",
   "id": "72ef1877-c598-42a3-9de9-20e4fa0e3b06",
   "metadata": {},
   "source": [
    "## 6. Manipulação de Dados e Criação de Colunas\n",
    "\n",
    "### 6.1 Manipulando Tipos de Dados"
   ]
  },
  {
   "cell_type": "code",
   "execution_count": null,
   "id": "6e506605-d708-4f78-bf1f-2f69323008c4",
   "metadata": {},
   "outputs": [],
   "source": [
    "# Verificando o tipo de dado da coluna 'data'\n",
    "print(f\"Tipo de dado da coluna 'data': {df_vendas['data'].dtype}\")"
   ]
  },
  {
   "cell_type": "code",
   "execution_count": null,
   "id": "a8ed8ff7-e03e-47bd-8a66-369e9dc8903a",
   "metadata": {},
   "outputs": [],
   "source": [
    "# Convertendo a coluna 'data' para datetime\n",
    "df_vendas['data'] = pd.to_datetime(df_vendas['data'])\n",
    "print(f\"Novo tipo de dado da coluna 'data': {df_vendas['data'].dtype}\")"
   ]
  },
  {
   "cell_type": "code",
   "execution_count": null,
   "id": "a70da34f-f35b-467e-8cf4-8058c872aa51",
   "metadata": {},
   "outputs": [],
   "source": [
    "# Extraindo componentes da data\n",
    "df_vendas['ano'] = df_vendas['data'].dt.year\n",
    "df_vendas['mes'] = df_vendas['data'].dt.month\n",
    "df_vendas['dia'] = df_vendas['data'].dt.day\n",
    "df_vendas['dia_semana'] = df_vendas['data'].dt.day_name()\n",
    "\n",
    "# Visualizando as novas colunas\n",
    "print(\"Primeiras linhas com as novas colunas de data:\")\n",
    "df_vendas[['data', 'ano', 'mes', 'dia', 'dia_semana']].head()"
   ]
  },
  {
   "cell_type": "markdown",
   "id": "558fc1b9-9b3a-4111-a467-5c708aae344a",
   "metadata": {},
   "source": [
    "### 6.2 Criando Novas Colunas com Operações Aritméticas"
   ]
  },
  {
   "cell_type": "code",
   "execution_count": null,
   "id": "c3085c87-d833-4a5f-8f46-0415a6ab1aab",
   "metadata": {},
   "outputs": [],
   "source": [
    "# Criando uma coluna de valor total (valor_venda * quantidade)\n",
    "df_vendas['valor_total'] = df_vendas['valor_venda'] * df_vendas['quantidade']\n",
    "\n",
    "# Criando uma coluna de desconto (10% do valor_venda)\n",
    "df_vendas['desconto'] = df_vendas['valor_venda'] * 0.1\n",
    "\n",
    "# Criando uma coluna de valor com desconto\n",
    "df_vendas['valor_com_desconto'] = df_vendas['valor_venda'] - df_vendas['desconto']\n",
    "\n",
    "# Visualizando as novas colunas\n",
    "print(\"Primeiras linhas com as novas colunas calculadas:\")\n",
    "df_vendas[['valor_venda', 'quantidade', 'valor_total', 'desconto', 'valor_com_desconto']].head()"
   ]
  },
  {
   "cell_type": "markdown",
   "id": "4bb2267f-db00-477d-ae0c-685c86ea4f32",
   "metadata": {},
   "source": [
    "### 6.3 Criando Colunas Categóricas com apply() e funções personalizadas"
   ]
  },
  {
   "cell_type": "code",
   "execution_count": null,
   "id": "38b97fbf-5239-437b-aff4-f7b56f73c708",
   "metadata": {},
   "outputs": [],
   "source": [
    "# Definindo uma função para categorizar o valor da venda\n",
    "def categorizar_valor(valor):\n",
    "    if valor < 100:\n",
    "        return 'Baixo'\n",
    "    elif valor < 1000:\n",
    "        return 'Médio'\n",
    "    else:\n",
    "        return 'Alto'\n",
    "\n",
    "# Aplicando a função à coluna 'valor_venda' para criar a coluna 'faixa_preco'\n",
    "df_vendas['faixa_preco'] = df_vendas['valor_venda'].apply(categorizar_valor)\n",
    "df_vendas[['valor_venda', 'faixa_preco']].head()"
   ]
  },
  {
   "cell_type": "code",
   "execution_count": null,
   "id": "b5145769-5610-49e7-a8df-c995e59d1fcd",
   "metadata": {},
   "outputs": [],
   "source": [
    "# Definindo uma função para categorizar a quantidade\n",
    "def categorizar_quantidade(qtd):\n",
    "    if qtd <= 2:\n",
    "        return 'Pequeno'\n",
    "    elif qtd <= 5:\n",
    "        return 'Médio'\n",
    "    else:\n",
    "        return 'Grande'\n",
    "\n",
    "# Aplicando a função à coluna 'quantidade'\n",
    "df_vendas['tamanho_pedido'] = df_vendas['quantidade'].apply(categorizar_quantidade)\n",
    "df_vendas[['quantidade', 'tamanho_pedido']].head()"
   ]
  },
  {
   "cell_type": "code",
   "execution_count": null,
   "id": "6e5103ed-bbc5-415b-915f-6fac031d34b0",
   "metadata": {},
   "outputs": [],
   "source": [
    "# Visualizando as novas colunas categóricas\n",
    "print(\"Primeiras linhas com as novas colunas categóricas:\")\n",
    "df_vendas[['valor_venda', 'faixa_preco', 'quantidade', 'tamanho_pedido']].head()"
   ]
  },
  {
   "cell_type": "code",
   "execution_count": null,
   "id": "68ec92ea-fa45-4296-baff-c06af3a585f0",
   "metadata": {},
   "outputs": [],
   "source": [
    "# Verificando a contagem de cada categoria\n",
    "print(\"Contagem por faixa de preço:\")\n",
    "df_vendas['faixa_preco'].value_counts()"
   ]
  },
  {
   "cell_type": "code",
   "execution_count": null,
   "id": "88f08c50-ae48-425e-a550-b23ed963a863",
   "metadata": {},
   "outputs": [],
   "source": [
    "print(\"Contagem por tamanho de pedido:\")\n",
    "df_vendas['tamanho_pedido'].value_counts()"
   ]
  },
  {
   "cell_type": "markdown",
   "id": "89d21dee-850c-4337-8f29-c5506633d3be",
   "metadata": {},
   "source": [
    "#### Exercício 6: Manipulação de Dados e Criação de Colunas\n",
    "Agora, pratique a manipulação de dados e criação de colunas:"
   ]
  },
  {
   "cell_type": "markdown",
   "id": "30ea35b0-7c29-4edb-b600-c0de6a4c8b20",
   "metadata": {},
   "source": [
    "##### 6.1 Crie uma coluna 'trimestre' baseada no mês da venda (1: Jan-Mar, 2: Abr-Jun, etc.)\n",
    "Dica: você pode usar a função math.ceil(mes/3) ou uma função personalizada"
   ]
  },
  {
   "cell_type": "code",
   "execution_count": null,
   "id": "d6368826-0f52-46dc-b75c-06cad3e407a6",
   "metadata": {},
   "outputs": [],
   "source": [
    "# SEU CÓDIGO AQUI"
   ]
  },
  {
   "cell_type": "markdown",
   "id": "3dc14ded-0778-4c04-94f8-f606cdb32e31",
   "metadata": {},
   "source": [
    "##### 6.2 Crie uma coluna 'dia_util' que indique se a venda ocorreu em um dia útil (segunda a sexta) ou fim de semana (sábado e domingo)\n",
    "Dica: use o atributo .dt.dayofweek (0-4 para dias da semana, 5-6 para fim de semana)"
   ]
  },
  {
   "cell_type": "code",
   "execution_count": null,
   "id": "fb486775-f343-4fc3-99e5-b36da28f5f71",
   "metadata": {},
   "outputs": [],
   "source": [
    "# SEU CÓDIGO AQUI"
   ]
  },
  {
   "cell_type": "markdown",
   "id": "a13386b7-f845-43ac-9ba6-6efa0a4d554a",
   "metadata": {},
   "source": [
    "##### 6.3 Crie uma coluna 'margem_lucro' que é 30% do valor_venda"
   ]
  },
  {
   "cell_type": "code",
   "execution_count": null,
   "id": "1399b914-841b-4af2-bdef-6e8e4516e447",
   "metadata": {},
   "outputs": [],
   "source": [
    "# SEU CÓDIGO AQUI"
   ]
  },
  {
   "cell_type": "markdown",
   "id": "e7652bf4-336e-407c-a54a-4894bda3f7b8",
   "metadata": {},
   "source": [
    "##### 6.4 Crie uma coluna categórica 'nivel_avaliacao' baseada na avaliação: 'Ruim' (1-2), 'Regular' (3), 'Bom' (4), 'Excelente' (5)"
   ]
  },
  {
   "cell_type": "code",
   "execution_count": null,
   "id": "3647eaa0-4461-4043-a00d-7c73efea87e8",
   "metadata": {},
   "outputs": [],
   "source": [
    "# SEU CÓDIGO AQUI"
   ]
  },
  {
   "cell_type": "markdown",
   "id": "93691517-0708-4d83-a844-38d70ee751e9",
   "metadata": {},
   "source": [
    "##### 6.5 Crie uma coluna 'acima_media' que tenha valor True se o valor_venda for superior à média de todas as vendas e False caso contrário"
   ]
  },
  {
   "cell_type": "code",
   "execution_count": null,
   "id": "b1aa4fc9-ee2d-4832-a012-7656c0f76942",
   "metadata": {},
   "outputs": [],
   "source": [
    "# SEU CÓDIGO AQUI"
   ]
  },
  {
   "cell_type": "markdown",
   "id": "34bb547f-79e7-4f0f-ad4a-e5f2131cd954",
   "metadata": {},
   "source": [
    "---"
   ]
  },
  {
   "cell_type": "markdown",
   "id": "457f3bf3",
   "metadata": {},
   "source": [
    "# 7. Visualização de Dados com Pandas\n",
    "A visualização é uma parte fundamental da análise de dados. O Pandas oferece uma integração com Matplotlib que facilita a criação de diversos tipos de gráficos através do método `.plot()`.\n",
    "\n",
    "### 7.1 Gráficos de Linha\n",
    "Os gráficos de linha são ótimos para mostrar mudanças ao longo do tempo ou tendências."
   ]
  },
  {
   "cell_type": "code",
   "execution_count": null,
   "id": "edd03e1a",
   "metadata": {},
   "outputs": [],
   "source": [
    "# Agrupando vendas por mês\n",
    "vendas_mensais = df_vendas.groupby('mes')['valor_total'].sum()\n",
    "\n",
    "# Criando um simples gráfico de linha\n",
    "vendas_mensais.plot(kind='line') # O parâmetro 'kind' especifica qual tipo de gráfico queremos, nesse caso, linha (line)\n",
    "plt.title('Valor Total de Vendas por Mês') # Título do gráfico\n",
    "plt.xlabel('Mês') # Rótulo do eixo x\n",
    "plt.ylabel('Valor Total (R$)') # Rótulo do eixo y\n",
    "plt.show()"
   ]
  },
  {
   "cell_type": "markdown",
   "id": "21eaba1d",
   "metadata": {},
   "source": [
    "### 7.2 Gráficos de Barras\n",
    "Os gráficos de barras são ótimos para comparar valores entre diferentes categorias."
   ]
  },
  {
   "cell_type": "code",
   "execution_count": null,
   "id": "d9d51589",
   "metadata": {},
   "outputs": [],
   "source": [
    "# Valor total de vendas por categoria\n",
    "vendas_por_categoria = df_vendas.groupby('categoria')['valor_total'].sum()\n",
    "\n",
    "# Criando um gráfico de barras simples\n",
    "vendas_por_categoria.plot(kind='bar')\n",
    "plt.title('Valor Total de Vendas por Categoria')\n",
    "plt.xlabel('Categoria')\n",
    "plt.ylabel('Valor Total (R$)')\n",
    "plt.show()"
   ]
  },
  {
   "cell_type": "markdown",
   "id": "348978a4",
   "metadata": {},
   "source": [
    "### 7.3 Histogramas\n",
    "Histogramas mostram a distribuição dos seus dados, dividindo os valores em intervalos (bins)."
   ]
  },
  {
   "cell_type": "code",
   "execution_count": null,
   "id": "1c1d9419",
   "metadata": {},
   "outputs": [],
   "source": [
    "# Histograma dos valores de venda\n",
    "df_vendas['valor_venda'].plot(kind='hist', bins=20)\n",
    "plt.title('Distribuição dos Valores de Venda')\n",
    "plt.xlabel('Valor (R$)')\n",
    "plt.ylabel('Frequência')\n",
    "plt.show()"
   ]
  },
  {
   "cell_type": "markdown",
   "id": "25c617d5",
   "metadata": {},
   "source": [
    "### 7.4 Personalizando Gráficos\n",
    "Você pode personalizar seus gráficos adicionando cores, marcadores e outros elementos."
   ]
  },
  {
   "cell_type": "code",
   "execution_count": null,
   "id": "462ecef1",
   "metadata": {},
   "outputs": [],
   "source": [
    "# Personalizando um gráfico de linha\n",
    "vendas_mensais.plot(\n",
    "    kind='line',\n",
    "    figsize=(10, 5),   # Tamanho da figura\n",
    "    color='green',     # Cor da linha\n",
    "    marker='o',        # Marcador nos pontos\n",
    "    linestyle='--',    # Estilo da linha\n",
    "    linewidth=2        # Espessura da linha\n",
    ")\n",
    "plt.title('Valor Total de Vendas por Mês')\n",
    "plt.xlabel('Mês')\n",
    "plt.ylabel('Valor Total (R$)')\n",
    "plt.grid(True)\n",
    "plt.show()"
   ]
  },
  {
   "cell_type": "markdown",
   "id": "3b6431e2",
   "metadata": {},
   "source": [
    "#### Exercício 7: Visualização de Dados\n",
    "Agora é sua vez de praticar a criação de gráficos com Pandas:\n",
    "\n",
    "##### 7.1 Crie um gráfico de barras mostrando o número de vendas por canal_venda"
   ]
  },
  {
   "cell_type": "code",
   "execution_count": null,
   "id": "8faaa925",
   "metadata": {},
   "outputs": [],
   "source": [
    "# SEU CÓDIGO AQUI"
   ]
  },
  {
   "cell_type": "markdown",
   "id": "9f84b6a2",
   "metadata": {},
   "source": [
    "##### 7.2 Crie um gráfico de linha simples mostrando a média de valor_venda por mês"
   ]
  },
  {
   "cell_type": "code",
   "execution_count": null,
   "id": "02188938",
   "metadata": {},
   "outputs": [],
   "source": [
    "# SEU CÓDIGO AQUI"
   ]
  },
  {
   "cell_type": "markdown",
   "id": "e115e039",
   "metadata": {},
   "source": [
    "##### 7.3 Crie um histograma da coluna 'avaliacao' e adicione um título"
   ]
  },
  {
   "cell_type": "code",
   "execution_count": null,
   "id": "72bf7e2a",
   "metadata": {},
   "outputs": [],
   "source": [
    "# SEU CÓDIGO AQUI"
   ]
  },
  {
   "cell_type": "markdown",
   "id": "399157d0",
   "metadata": {},
   "source": [
    "##### 7.4 Crie um gráfico de barras mostrando o total de vendas por região"
   ]
  },
  {
   "cell_type": "code",
   "execution_count": null,
   "id": "6aacdffa",
   "metadata": {},
   "outputs": [],
   "source": [
    "# SEU CÓDIGO AQUI"
   ]
  },
  {
   "cell_type": "markdown",
   "id": "023e0188",
   "metadata": {},
   "source": [
    "---"
   ]
  },
  {
   "cell_type": "markdown",
   "id": "98ce4a7c",
   "metadata": {},
   "source": [
    "# Você Chegou ao Fim!\n",
    "\n",
    "Parabéns por ter chegado até aqui, guerreiro(a) dos dados! \n",
    "(A não ser que você tenha pulado tudo e vindo direto pra cá... hmm, estamos de olho 👀)\n",
    "\n",
    "Esperamos que você tenha conseguido resolver todos os exercícios - ou pelo menos tenha quebrado a cabeça tentando!\n",
    "\n",
    "## 📋 Antes de enviar, dá uma conferida final:\n",
    "- Todas as células estão funcionando? (Por favor, diz que sim 🙏)\n",
    "- Você respondeu todas as questões? (Aquela do meio era difícil, né?)\n",
    "- O código está rodando sem erros? (Ou sem MUITOS erros, pelo menos 😅)\n",
    "\n",
    "## 📤 INSTRUÇÕES DE ENTREGA:\n",
    "- Envie este notebook para: lads.unama@gmail.com\n",
    "- Prazo: Domingo, 18/05/2025, às 23:59\n",
    "\n",
    "Você pode mandar o arquivo direto ou o link do seu GitHub - escolha a opção que te deixa mais zen!\n",
    "\n",
    "Boa sorte e até a próxima fase (pensamento positivo, né?)! 💪\n",
    "\n",
    "— Equipe LADS, que já está ansiosa pra ver a magia que você fez com esses dados"
   ]
  }
 ],
 "metadata": {
  "kernelspec": {
   "display_name": "Python 3",
   "language": "python",
   "name": "python3"
  },
  "language_info": {
   "codemirror_mode": {
    "name": "ipython",
    "version": 3
   },
   "file_extension": ".py",
   "mimetype": "text/x-python",
   "name": "python",
   "nbconvert_exporter": "python",
   "pygments_lexer": "ipython3",
   "version": "3.13.1"
  }
 },
 "nbformat": 4,
 "nbformat_minor": 5
}
